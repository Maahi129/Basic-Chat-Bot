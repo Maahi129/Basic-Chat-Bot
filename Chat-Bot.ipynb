{
 "cells": [
  {
   "cell_type": "code",
   "execution_count": 1,
   "id": "57339746",
   "metadata": {},
   "outputs": [],
   "source": [
    "from nltk.chat.util import Chat, reflections"
   ]
  },
  {
   "cell_type": "code",
   "execution_count": 2,
   "id": "2a9e1e14",
   "metadata": {},
   "outputs": [],
   "source": [
    "my_reflections = {\n",
    "    \"hi\" : \"hey|hi\",\n",
    "    \"What do you do\" : \"I am waiting for you\",\n",
    "    \"bye\" : \"Bye|Thank You!\"\n",
    "}"
   ]
  },
  {
   "cell_type": "code",
   "execution_count": 3,
   "id": "86d4e01e",
   "metadata": {},
   "outputs": [],
   "source": [
    "pairs = [['My name is (.*)',['Hi %1']],\n",
    "         \n",
    "[\"(hey|hello|yo|hi|hola|what’s good?)\",\n",
    "[\"Hello, I’m glad that you are thinking of switching to Green Tea, or as I call it: Matcha !\"\n",
    ",\"Nice to meet you!\",\"Hope you’re doing good\",\"Hi there! How can I help you?\"]],\n",
    "         \n",
    "[\"(.*) is fun\",[\"%1 is indeed fun\"]],\n",
    "         \n",
    "[\"(what is your name?|what are you?|who are you?|your name please?)\",\n",
    "[\"Hi I’m Mat\",\"Call me Mat\",\"I’m Mat, nice to meet you\"]],\n",
    "         \n",
    "[\"(bye|see you later|goodbye|nice chatting with you)\",\n",
    "[\"Hope you enjoy your matcha!\",\"Congratulations on switching to a healthier lifestyle\",\"enjoy your green tea\"]],\n",
    "         \n",
    "[\"(thanks|thank you|that’s helpful|awesome,thanks|thanks for helping me)\",\n",
    "[\"happy to help!\",\"anytime\",\"no problem, you’re making healthier choices\"]],\n",
    "         \n",
    "[\"(How can you help me?| What can you do?|What help you provide?|help?|How can you be helpful?|What support do you offered|What do you know?)\",\n",
    "[\"I can tell you the benefits of matcha green tea.\"]],\n",
    "         \n",
    "[\"(What do you know about matcha?|tell me about matcha?|Is matcha healthier than coffee?|what exactly do you know about matcha?)\",\n",
    "[ \"I know all about matcha and its benefits\",\n",
    "\"I know some key words like benefits, impact, weight loss and coffee to mention a few\",\n",
    "\"Ask me a question about matcha and I will answer to the best of my knowledge\"]],\n",
    "         \n",
    "[\"(What is matcha?|What is matcha green tea?|matcha|difference between matcha and green tea)\",\n",
    "[\"Matcha is a highly concentrated form of green tea.\"]],\n",
    "         \n",
    "[\"( What are the benefits of matcha?|List the benefits of matcha?|Do you know the benefits of matcha?|benefits?)\",\n",
    "[\"1.The combination of caffeine with l-theanine in matcha green tea provides a stable and extended boost of energy without the anxious jitters or side effects like you might have previously experienced with coffee and energy drinks\\n2.Some things simply require a lot of thought. The combination of caffeine and l-theanine do wonders for concentration.\\n3.Matcha green tea Fortifies the immune system and limits the invasion and growth of viruses and bacteria in the body\\n4.EGCg and caffeine work together to naturally boost your metabolism and increase the number of calories you burn on a daily basis.\\n5.L-theanine is a rare amino acid found in high concentrations in matcha that crosses the blood-brain barrier and promotes a feeling of relaxation while reducing mental and physical stress.\"]],\n",
    "         \n",
    "[\"(How do I get started?|start?|How do I quit coffee then?|How much should I consume everyday?|list the full tennis wears)\",\n",
    "[\"To be safe, make sure to consume matcha in moderation. It’s best to stick to 1–2 cups per day and look for certified organic varieties to take advantage of matcha’s many health benefits without risking any side effects. There are many ways to prepare matcha, so you can choose the one you like best.\"]],\n",
    "         \n",
    "[\"(How do I prepare matcha?|How to prepare it?|prepare?)\",\n",
    "[ \"1.Sift 1–2 tsp matcha into a cup using a small sifter.\\n2.Add 2oz hot water. For best results use water just under a boil.\\n3.Whisk vigorously in a zig zag motion until the tea is frothy.\\n4.Enjoy your matcha tea straight from the bowl or add water or milk.\\n Tip: We recommend adding lemon zest to make it healthier!\"]],\n",
    "         \n",
    "[\"(Are there any side effects?|side effects?|What are the side effects?|Can you tell me the side effects of matcha?)\",\n",
    "[\"Matcha doesn’t appear to cause significant side effects when consumed in moderation, but high doses providing large amounts of caffeine may cause headaches, diarrhea, insomnia, and irritability. Pregnant women should use caution.\"]],\n",
    "         \n",
    "[\"(What are the brands which sell matcha?|brands?|Where do I buy matcha from?|Where can I find Matcha?)\",\n",
    "[\"You can find matcha sold by various brands on Amazon. Starting price: $5.99\"]],\n",
    "         \n",
    "[\"(Does matcha help in weight loss?|weight loss?)\",\n",
    "[ \"Yes!! Matcha contains EGCg (epigallocatechin gallate), which increases CCK (cholecystokinin), the hormone responsible for making you feel full. Drinking matcha between meals will help you feel full and resist those sneaky snacks that are full of calories.\"]],\n",
    "         \n",
    "[\"(.*) (created you)?\",['Spardha']],\n",
    "]\n"
   ]
  },
  {
   "cell_type": "code",
   "execution_count": null,
   "id": "68e79fea",
   "metadata": {},
   "outputs": [
    {
     "name": "stdout",
     "output_type": "stream",
     "text": [
      ">hey\n",
      "Hi there! How can I help you?\n",
      ">what is your name\n",
      "Call me Mat\n",
      ">How can you help me?\n",
      "I can tell you the benefits of matcha green tea.\n",
      ">What is matcha green tea?\n",
      "Matcha is a highly concentrated form of green tea.\n",
      ">Are there any side effets>\n",
      "Spardha\n",
      ">Are there any side effects?\n",
      "Matcha doesn’t appear to cause significant side effects when consumed in moderation, but high doses providing large amounts of caffeine may cause headaches, diarrhea, insomnia, and irritability. Pregnant women should use caution.\n",
      ">bye\n",
      "Hope you enjoy your matcha!\n"
     ]
    }
   ],
   "source": [
    "chat = Chat(pairs, reflections)\n",
    "chat.converse()"
   ]
  },
  {
   "cell_type": "code",
   "execution_count": null,
   "id": "318f246d",
   "metadata": {},
   "outputs": [],
   "source": []
  },
  {
   "cell_type": "code",
   "execution_count": null,
   "id": "89e16878",
   "metadata": {},
   "outputs": [],
   "source": []
  }
 ],
 "metadata": {
  "kernelspec": {
   "display_name": "Python 3 (ipykernel)",
   "language": "python",
   "name": "python3"
  },
  "language_info": {
   "codemirror_mode": {
    "name": "ipython",
    "version": 3
   },
   "file_extension": ".py",
   "mimetype": "text/x-python",
   "name": "python",
   "nbconvert_exporter": "python",
   "pygments_lexer": "ipython3",
   "version": "3.9.7"
  }
 },
 "nbformat": 4,
 "nbformat_minor": 5
}
